{
 "cells": [
  {
   "cell_type": "code",
   "execution_count": 2,
   "metadata": {},
   "outputs": [
    {
     "name": "stdout",
     "output_type": "stream",
     "text": [
      "WARNING:tensorflow:From c:\\Users\\Masoud\\AppData\\Local\\Programs\\Python\\Python311\\Lib\\site-packages\\keras\\src\\losses.py:2976: The name tf.losses.sparse_softmax_cross_entropy is deprecated. Please use tf.compat.v1.losses.sparse_softmax_cross_entropy instead.\n",
      "\n"
     ]
    }
   ],
   "source": [
    "import tensorflow as tf\n",
    "from tensorflow import keras"
   ]
  },
  {
   "cell_type": "code",
   "execution_count": 3,
   "metadata": {},
   "outputs": [],
   "source": [
    "fashion_mnist = keras.datasets.fashion_mnist\n",
    "(X_train_full, y_train_full), (X_test, y_test) = fashion_mnist.load_data()"
   ]
  },
  {
   "cell_type": "code",
   "execution_count": 4,
   "metadata": {},
   "outputs": [
    {
     "name": "stdout",
     "output_type": "stream",
     "text": [
      "x_train_full shape:  (60000, 28, 28) x_train_full type:  uint8\n",
      "y_train_full shape:  (60000,) y_train_full type:  uint8\n",
      "x_test shape:  (10000, 28, 28) x_test type:  uint8\n",
      "y_test shape: (10000,) y_test type uint8\n"
     ]
    }
   ],
   "source": [
    "print('x_train_full shape: ', X_train_full.shape, 'x_train_full type: ', X_train_full.dtype) \n",
    "print('y_train_full shape: ', y_train_full.shape, 'y_train_full type: ', y_train_full.dtype) \n",
    "print('x_test shape: ', X_test.shape, 'x_test type: ', X_test.dtype) \n",
    "print('y_test shape:', y_test.shape, 'y_test type', y_test.dtype)"
   ]
  },
  {
   "cell_type": "markdown",
   "metadata": {},
   "source": [
    "Images are uint8. That is, each pixel in the images has a value between 0 and 255. Because we want to use a descending gradient, we need to set these values between 0 and 1. For this, it is enough to divide the images by 255."
   ]
  },
  {
   "cell_type": "code",
   "execution_count": 5,
   "metadata": {},
   "outputs": [],
   "source": [
    "x_valid, x_train = X_train_full[50000:] / 255.0, X_train_full[:50000] / 255.0\n",
    "y_valid, y_train = y_train_full[50000:], y_train_full[:50000]"
   ]
  },
  {
   "cell_type": "code",
   "execution_count": 6,
   "metadata": {},
   "outputs": [
    {
     "name": "stdout",
     "output_type": "stream",
     "text": [
      "WARNING:tensorflow:From c:\\Users\\Masoud\\AppData\\Local\\Programs\\Python\\Python311\\Lib\\site-packages\\keras\\src\\backend.py:873: The name tf.get_default_graph is deprecated. Please use tf.compat.v1.get_default_graph instead.\n",
      "\n"
     ]
    }
   ],
   "source": [
    "model = keras.models.Sequential([\n",
    "    keras.layers.Flatten(input_shape=[28, 28]), \n",
    "    keras.layers.Dense(300, activation=\"relu\"), \n",
    "    keras.layers.Dense(100, activation=\"relu\"), \n",
    "    keras.layers.Dense(10, activation=\"softmax\") ])"
   ]
  },
  {
   "cell_type": "code",
   "execution_count": 8,
   "metadata": {},
   "outputs": [
    {
     "name": "stdout",
     "output_type": "stream",
     "text": [
      "Model: \"sequential\"\n",
      "_________________________________________________________________\n",
      " Layer (type)                Output Shape              Param #   \n",
      "=================================================================\n",
      " flatten (Flatten)           (None, 784)               0         \n",
      "                                                                 \n",
      " dense (Dense)               (None, 300)               235500    \n",
      "                                                                 \n",
      " dense_1 (Dense)             (None, 100)               30100     \n",
      "                                                                 \n",
      " dense_2 (Dense)             (None, 10)                1010      \n",
      "                                                                 \n",
      "=================================================================\n",
      "Total params: 266610 (1.02 MB)\n",
      "Trainable params: 266610 (1.02 MB)\n",
      "Non-trainable params: 0 (0.00 Byte)\n",
      "_________________________________________________________________\n"
     ]
    }
   ],
   "source": [
    "model.summary()"
   ]
  },
  {
   "cell_type": "code",
   "execution_count": 9,
   "metadata": {},
   "outputs": [
    {
     "name": "stdout",
     "output_type": "stream",
     "text": [
      "WARNING:tensorflow:From c:\\Users\\Masoud\\AppData\\Local\\Programs\\Python\\Python311\\Lib\\site-packages\\keras\\src\\optimizers\\__init__.py:309: The name tf.train.Optimizer is deprecated. Please use tf.compat.v1.train.Optimizer instead.\n",
      "\n"
     ]
    }
   ],
   "source": [
    "model.compile(loss=\"sparse_categorical_crossentropy\", optimizer=\"sgd\", metrics=[\"accuracy\"])"
   ]
  },
  {
   "cell_type": "code",
   "execution_count": 10,
   "metadata": {},
   "outputs": [
    {
     "name": "stdout",
     "output_type": "stream",
     "text": [
      "Epoch 1/30\n",
      "WARNING:tensorflow:From c:\\Users\\Masoud\\AppData\\Local\\Programs\\Python\\Python311\\Lib\\site-packages\\keras\\src\\utils\\tf_utils.py:492: The name tf.ragged.RaggedTensorValue is deprecated. Please use tf.compat.v1.ragged.RaggedTensorValue instead.\n",
      "\n",
      "WARNING:tensorflow:From c:\\Users\\Masoud\\AppData\\Local\\Programs\\Python\\Python311\\Lib\\site-packages\\keras\\src\\engine\\base_layer_utils.py:384: The name tf.executing_eagerly_outside_functions is deprecated. Please use tf.compat.v1.executing_eagerly_outside_functions instead.\n",
      "\n",
      "1563/1563 [==============================] - 13s 7ms/step - loss: 0.7212 - accuracy: 0.7680 - val_loss: 0.5708 - val_accuracy: 0.7949\n",
      "Epoch 2/30\n",
      "1563/1563 [==============================] - 11s 7ms/step - loss: 0.4953 - accuracy: 0.8295 - val_loss: 0.4820 - val_accuracy: 0.8259\n",
      "Epoch 3/30\n",
      "1563/1563 [==============================] - 11s 7ms/step - loss: 0.4469 - accuracy: 0.8449 - val_loss: 0.4584 - val_accuracy: 0.8414\n",
      "Epoch 4/30\n",
      "1563/1563 [==============================] - 10s 7ms/step - loss: 0.4188 - accuracy: 0.8537 - val_loss: 0.4414 - val_accuracy: 0.8478\n",
      "Epoch 5/30\n",
      "1563/1563 [==============================] - 10s 7ms/step - loss: 0.3969 - accuracy: 0.8614 - val_loss: 0.4115 - val_accuracy: 0.8531\n",
      "Epoch 6/30\n",
      "1563/1563 [==============================] - 10s 7ms/step - loss: 0.3811 - accuracy: 0.8659 - val_loss: 0.3972 - val_accuracy: 0.8598\n",
      "Epoch 7/30\n",
      "1563/1563 [==============================] - 10s 7ms/step - loss: 0.3673 - accuracy: 0.8714 - val_loss: 0.3865 - val_accuracy: 0.8639\n",
      "Epoch 8/30\n",
      "1563/1563 [==============================] - 10s 7ms/step - loss: 0.3547 - accuracy: 0.8758 - val_loss: 0.3697 - val_accuracy: 0.8687\n",
      "Epoch 9/30\n",
      "1563/1563 [==============================] - 11s 7ms/step - loss: 0.3436 - accuracy: 0.8786 - val_loss: 0.3714 - val_accuracy: 0.8667\n",
      "Epoch 10/30\n",
      "1563/1563 [==============================] - 10s 7ms/step - loss: 0.3341 - accuracy: 0.8815 - val_loss: 0.3646 - val_accuracy: 0.8711\n",
      "Epoch 11/30\n",
      "1563/1563 [==============================] - 11s 7ms/step - loss: 0.3262 - accuracy: 0.8840 - val_loss: 0.3898 - val_accuracy: 0.8564\n",
      "Epoch 12/30\n",
      "1563/1563 [==============================] - 11s 7ms/step - loss: 0.3177 - accuracy: 0.8875 - val_loss: 0.3707 - val_accuracy: 0.8665\n",
      "Epoch 13/30\n",
      "1563/1563 [==============================] - 11s 7ms/step - loss: 0.3108 - accuracy: 0.8906 - val_loss: 0.3612 - val_accuracy: 0.8719\n",
      "Epoch 14/30\n",
      "1563/1563 [==============================] - 11s 7ms/step - loss: 0.3038 - accuracy: 0.8919 - val_loss: 0.3566 - val_accuracy: 0.8729\n",
      "Epoch 15/30\n",
      "1563/1563 [==============================] - 11s 7ms/step - loss: 0.2968 - accuracy: 0.8947 - val_loss: 0.3405 - val_accuracy: 0.8818\n",
      "Epoch 16/30\n",
      "1563/1563 [==============================] - 11s 7ms/step - loss: 0.2914 - accuracy: 0.8955 - val_loss: 0.3298 - val_accuracy: 0.8816\n",
      "Epoch 17/30\n",
      "1563/1563 [==============================] - 11s 7ms/step - loss: 0.2851 - accuracy: 0.8980 - val_loss: 0.3311 - val_accuracy: 0.8811\n",
      "Epoch 18/30\n",
      "1563/1563 [==============================] - 11s 7ms/step - loss: 0.2797 - accuracy: 0.8994 - val_loss: 0.3482 - val_accuracy: 0.8767\n",
      "Epoch 19/30\n",
      "1563/1563 [==============================] - 11s 7ms/step - loss: 0.2743 - accuracy: 0.9016 - val_loss: 0.3313 - val_accuracy: 0.8816\n",
      "Epoch 20/30\n",
      "1563/1563 [==============================] - 11s 7ms/step - loss: 0.2692 - accuracy: 0.9029 - val_loss: 0.3276 - val_accuracy: 0.8829\n",
      "Epoch 21/30\n",
      "1563/1563 [==============================] - 10s 7ms/step - loss: 0.2643 - accuracy: 0.9052 - val_loss: 0.3375 - val_accuracy: 0.8797\n",
      "Epoch 22/30\n",
      "1563/1563 [==============================] - 10s 7ms/step - loss: 0.2594 - accuracy: 0.9065 - val_loss: 0.3395 - val_accuracy: 0.8808\n",
      "Epoch 23/30\n",
      "1563/1563 [==============================] - 10s 7ms/step - loss: 0.2555 - accuracy: 0.9092 - val_loss: 0.3325 - val_accuracy: 0.8823\n",
      "Epoch 24/30\n",
      "1563/1563 [==============================] - 11s 7ms/step - loss: 0.2508 - accuracy: 0.9095 - val_loss: 0.3248 - val_accuracy: 0.8846\n",
      "Epoch 25/30\n",
      "1563/1563 [==============================] - 11s 7ms/step - loss: 0.2470 - accuracy: 0.9106 - val_loss: 0.3158 - val_accuracy: 0.8872\n",
      "Epoch 26/30\n",
      "1563/1563 [==============================] - 11s 7ms/step - loss: 0.2422 - accuracy: 0.9128 - val_loss: 0.3243 - val_accuracy: 0.8832\n",
      "Epoch 27/30\n",
      "1563/1563 [==============================] - 10s 7ms/step - loss: 0.2378 - accuracy: 0.9146 - val_loss: 0.3139 - val_accuracy: 0.8871\n",
      "Epoch 28/30\n",
      "1563/1563 [==============================] - 11s 7ms/step - loss: 0.2338 - accuracy: 0.9161 - val_loss: 0.3284 - val_accuracy: 0.8819\n",
      "Epoch 29/30\n",
      "1563/1563 [==============================] - 10s 7ms/step - loss: 0.2301 - accuracy: 0.9177 - val_loss: 0.3160 - val_accuracy: 0.8870\n",
      "Epoch 30/30\n",
      "1563/1563 [==============================] - 11s 7ms/step - loss: 0.2261 - accuracy: 0.9197 - val_loss: 0.3136 - val_accuracy: 0.8887\n"
     ]
    }
   ],
   "source": [
    "history = model.fit(x_train, y_train, epochs=30, validation_data=(x_valid, y_valid))"
   ]
  },
  {
   "cell_type": "code",
   "execution_count": 11,
   "metadata": {},
   "outputs": [
    {
     "data": {
      "image/png": "[encoded data removed]",
      "text/plain": [
       "<Figure size 800x500 with 1 Axes>"
      ]
     },
     "metadata": {},
     "output_type": "display_data"
    }
   ],
   "source": [
    "import pandas as pd \n",
    "import matplotlib.pyplot as plt \n",
    "pd.DataFrame(history.history).plot(figsize=(8, 5)) \n",
    "plt.grid(True) \n",
    "plt.gca().set_ylim(0, 1)  # set the vertical range to [0-1] \n",
    "plt.show()"
   ]
  },
  {
   "cell_type": "code",
   "execution_count": 13,
   "metadata": {},
   "outputs": [
    {
     "name": "stdout",
     "output_type": "stream",
     "text": [
      "313/313 [==============================] - 1s 4ms/step - loss: 0.3396 - accuracy: 0.8809\n"
     ]
    },
    {
     "data": {
      "text/plain": [
       "[0.339642196893692, 0.8809000253677368]"
      ]
     },
     "execution_count": 13,
     "metadata": {},
     "output_type": "execute_result"
    }
   ],
   "source": [
    "model.evaluate(X_test/255, y_test)"
   ]
  }
 ],
 "metadata": {
  "kernelspec": {
   "display_name": "Python 3",
   "language": "python",
   "name": "python3"
  },
  "language_info": {
   "codemirror_mode": {
    "name": "ipython",
    "version": 3
   },
   "file_extension": ".py",
   "mimetype": "text/x-python",
   "name": "python",
   "nbconvert_exporter": "python",
   "pygments_lexer": "ipython3",
   "version": "3.11.0"
  }
 },
 "nbformat": 4,
 "nbformat_minor": 2
}
